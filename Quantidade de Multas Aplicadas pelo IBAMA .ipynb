{
 "cells": [
  {
   "cell_type": "markdown",
   "metadata": {},
   "source": [
    "# Trabalho de Análise de Dados ultilizando Pandas\n",
    "\n",
    "## Faculdade Tecnológica de São José dos Campos - FATEC\n",
    "\n",
    "### Análise e Desenvolvimento de Sistemas - Turma A - Felipe Matheus Ribeiro - Nayara Lorrane Santos Silveira\n",
    "\n",
    "#### Fizemos uma pesquisa e análise de dados sobre as multas aplicadas pelo Ibama, quantidade de receita arracadada e uma breve demonstração do avanço dessas multas conforme os anos."
   ]
  },
  {
   "cell_type": "code",
   "execution_count": 1,
   "metadata": {},
   "outputs": [],
   "source": [
    "import pandas as pd\n",
    "import seaborn as sb\n",
    "low_memory=False\n",
    "%matplotlib inline"
   ]
  },
  {
   "cell_type": "code",
   "execution_count": 2,
   "metadata": {},
   "outputs": [],
   "source": [
    "filename = 'receitasarrecadadasecossistema.csv'\n",
    "df_e = pd.read_csv(filename, encoding='latin-1', sep = ';')"
   ]
  },
  {
   "cell_type": "code",
   "execution_count": 3,
   "metadata": {},
   "outputs": [
    {
     "data": {
      "text/plain": [
       "'Portuguese_Brazil.1252'"
      ]
     },
     "execution_count": 3,
     "metadata": {},
     "output_type": "execute_result"
    }
   ],
   "source": [
    "import locale \n",
    "locale.setlocale(locale.LC_ALL, '')"
   ]
  },
  {
   "cell_type": "code",
   "execution_count": 4,
   "metadata": {},
   "outputs": [],
   "source": [
    "def converte (texto):\n",
    "    return locale.atof(texto)"
   ]
  },
  {
   "cell_type": "code",
   "execution_count": 5,
   "metadata": {},
   "outputs": [
    {
     "name": "stdout",
     "output_type": "stream",
     "text": [
      "0     318896.6\n",
      "1     779488.5\n",
      "2     782363.8\n",
      "3     997143.4\n",
      "4     760774.6\n",
      "5    1172019.6\n",
      "6     520636.4\n",
      "7     656047.1\n",
      "8     527420.6\n",
      "Name: Receitas Arrecadadas Ecossistema, dtype: float64\n"
     ]
    }
   ],
   "source": [
    "df_e[\"Receitas Arrecadadas Ecossistema\"] = df_e[\"Receitas Arrecadadas Ecossistema\"].apply(converte)\n",
    "print (df_e[\"Receitas Arrecadadas Ecossistema\"])\n",
    "\n",
    "## Quantidade arrecada a partir das multas aplicadas, em um total de 6.514.790,60, em 8 anos."
   ]
  },
  {
   "cell_type": "code",
   "execution_count": 6,
   "metadata": {},
   "outputs": [
    {
     "data": {
      "text/html": [
       "<div>\n",
       "<style scoped>\n",
       "    .dataframe tbody tr th:only-of-type {\n",
       "        vertical-align: middle;\n",
       "    }\n",
       "\n",
       "    .dataframe tbody tr th {\n",
       "        vertical-align: top;\n",
       "    }\n",
       "\n",
       "    .dataframe thead th {\n",
       "        text-align: right;\n",
       "    }\n",
       "</style>\n",
       "<table border=\"1\" class=\"dataframe\">\n",
       "  <thead>\n",
       "    <tr style=\"text-align: right;\">\n",
       "      <th></th>\n",
       "      <th>Ano</th>\n",
       "      <th>Quantidade de Multas</th>\n",
       "      <th>Receitas Arrecadadas Ecossistema</th>\n",
       "    </tr>\n",
       "  </thead>\n",
       "  <tbody>\n",
       "    <tr>\n",
       "      <th>0</th>\n",
       "      <td>2010</td>\n",
       "      <td>437</td>\n",
       "      <td>318896.6</td>\n",
       "    </tr>\n",
       "    <tr>\n",
       "      <th>1</th>\n",
       "      <td>2011</td>\n",
       "      <td>655</td>\n",
       "      <td>779488.5</td>\n",
       "    </tr>\n",
       "    <tr>\n",
       "      <th>2</th>\n",
       "      <td>2012</td>\n",
       "      <td>864</td>\n",
       "      <td>782363.8</td>\n",
       "    </tr>\n",
       "    <tr>\n",
       "      <th>3</th>\n",
       "      <td>2013</td>\n",
       "      <td>906</td>\n",
       "      <td>997143.4</td>\n",
       "    </tr>\n",
       "    <tr>\n",
       "      <th>4</th>\n",
       "      <td>2014</td>\n",
       "      <td>980</td>\n",
       "      <td>760774.6</td>\n",
       "    </tr>\n",
       "    <tr>\n",
       "      <th>5</th>\n",
       "      <td>2015</td>\n",
       "      <td>1019</td>\n",
       "      <td>1172019.6</td>\n",
       "    </tr>\n",
       "    <tr>\n",
       "      <th>6</th>\n",
       "      <td>2016</td>\n",
       "      <td>841</td>\n",
       "      <td>520636.4</td>\n",
       "    </tr>\n",
       "    <tr>\n",
       "      <th>7</th>\n",
       "      <td>2017</td>\n",
       "      <td>621</td>\n",
       "      <td>656047.1</td>\n",
       "    </tr>\n",
       "    <tr>\n",
       "      <th>8</th>\n",
       "      <td>2018</td>\n",
       "      <td>530</td>\n",
       "      <td>527420.6</td>\n",
       "    </tr>\n",
       "  </tbody>\n",
       "</table>\n",
       "</div>"
      ],
      "text/plain": [
       "    Ano  Quantidade de Multas  Receitas Arrecadadas Ecossistema\n",
       "0  2010                   437                          318896.6\n",
       "1  2011                   655                          779488.5\n",
       "2  2012                   864                          782363.8\n",
       "3  2013                   906                          997143.4\n",
       "4  2014                   980                          760774.6\n",
       "5  2015                  1019                         1172019.6\n",
       "6  2016                   841                          520636.4\n",
       "7  2017                   621                          656047.1\n",
       "8  2018                   530                          527420.6"
      ]
     },
     "execution_count": 6,
     "metadata": {},
     "output_type": "execute_result"
    }
   ],
   "source": [
    "df_e.head(10)"
   ]
  },
  {
   "cell_type": "code",
   "execution_count": 7,
   "metadata": {},
   "outputs": [],
   "source": [
    "dataset = pd.read_csv('ecossistemamulta.csv', sep=';')"
   ]
  },
  {
   "cell_type": "code",
   "execution_count": 8,
   "metadata": {},
   "outputs": [
    {
     "data": {
      "text/html": [
       "<div>\n",
       "<style scoped>\n",
       "    .dataframe tbody tr th:only-of-type {\n",
       "        vertical-align: middle;\n",
       "    }\n",
       "\n",
       "    .dataframe tbody tr th {\n",
       "        vertical-align: top;\n",
       "    }\n",
       "\n",
       "    .dataframe thead th {\n",
       "        text-align: right;\n",
       "    }\n",
       "</style>\n",
       "<table border=\"1\" class=\"dataframe\">\n",
       "  <thead>\n",
       "    <tr style=\"text-align: right;\">\n",
       "      <th></th>\n",
       "      <th>Ano</th>\n",
       "      <th>Quantidade de Multas</th>\n",
       "      <th>_</th>\n",
       "    </tr>\n",
       "  </thead>\n",
       "  <tbody>\n",
       "    <tr>\n",
       "      <th>0</th>\n",
       "      <td>2010</td>\n",
       "      <td>437</td>\n",
       "      <td>_</td>\n",
       "    </tr>\n",
       "    <tr>\n",
       "      <th>1</th>\n",
       "      <td>2011</td>\n",
       "      <td>655</td>\n",
       "      <td>_</td>\n",
       "    </tr>\n",
       "    <tr>\n",
       "      <th>2</th>\n",
       "      <td>2012</td>\n",
       "      <td>864</td>\n",
       "      <td>_</td>\n",
       "    </tr>\n",
       "    <tr>\n",
       "      <th>3</th>\n",
       "      <td>2013</td>\n",
       "      <td>906</td>\n",
       "      <td>_</td>\n",
       "    </tr>\n",
       "    <tr>\n",
       "      <th>4</th>\n",
       "      <td>2014</td>\n",
       "      <td>980</td>\n",
       "      <td>_</td>\n",
       "    </tr>\n",
       "    <tr>\n",
       "      <th>5</th>\n",
       "      <td>2015</td>\n",
       "      <td>1019</td>\n",
       "      <td>_</td>\n",
       "    </tr>\n",
       "    <tr>\n",
       "      <th>6</th>\n",
       "      <td>2016</td>\n",
       "      <td>841</td>\n",
       "      <td>_</td>\n",
       "    </tr>\n",
       "    <tr>\n",
       "      <th>7</th>\n",
       "      <td>2017</td>\n",
       "      <td>621</td>\n",
       "      <td>_</td>\n",
       "    </tr>\n",
       "    <tr>\n",
       "      <th>8</th>\n",
       "      <td>2018</td>\n",
       "      <td>530</td>\n",
       "      <td>_</td>\n",
       "    </tr>\n",
       "  </tbody>\n",
       "</table>\n",
       "</div>"
      ],
      "text/plain": [
       "    Ano  Quantidade de Multas  _\n",
       "0  2010                   437  _\n",
       "1  2011                   655  _\n",
       "2  2012                   864  _\n",
       "3  2013                   906  _\n",
       "4  2014                   980  _\n",
       "5  2015                  1019  _\n",
       "6  2016                   841  _\n",
       "7  2017                   621  _\n",
       "8  2018                   530  _"
      ]
     },
     "execution_count": 8,
     "metadata": {},
     "output_type": "execute_result"
    }
   ],
   "source": [
    "dataset.head(10)"
   ]
  },
  {
   "cell_type": "code",
   "execution_count": 9,
   "metadata": {},
   "outputs": [
    {
     "data": {
      "image/png": "[encoded data removed]",
      "text/plain": [
       "<Figure size 1440x720 with 1 Axes>"
      ]
     },
     "metadata": {
      "needs_background": "light"
     },
     "output_type": "display_data"
    }
   ],
   "source": [
    "p = dataset.sort_values(by= [\"Quantidade de Multas\",],ascending=False).head(10).plot(kind=\"barh\", grid=(True), xticks=(400,600,800,1000), x=(\"Ano\"),figsize=(20,10), fontsize=(16))\n",
    "p.set_xlabel(\"Quantidade de Multas\", fontsize=(16));\n",
    "p.set_title(\"Quantidade de Multas por Ano Ecossistema\", fontsize=(20));\n",
    "p.set_ylabel(\"Anos\", fontsize=(16));\n",
    "\n",
    "## Gráfico por quantidades que destaca ano por ano o aumento de multas devido a ilicitudes relacionadas ao Ecossistema"
   ]
  },
  {
   "cell_type": "code",
   "execution_count": 10,
   "metadata": {},
   "outputs": [],
   "source": [
    "filename = 'receitasarrecadadasfauna.csv'\n",
    "df_f = pd.read_csv(filename, encoding='latin-1', sep = ';')"
   ]
  },
  {
   "cell_type": "code",
   "execution_count": 11,
   "metadata": {},
   "outputs": [
    {
     "name": "stdout",
     "output_type": "stream",
     "text": [
      "0    3242990.2\n",
      "1    3974115.8\n",
      "2    4705600.0\n",
      "3    6182908.4\n",
      "4    8154097.2\n",
      "5    8548623.5\n",
      "6    9042220.7\n",
      "7    9246115.9\n",
      "8    7995070.6\n",
      "Name: Receitas Arrecadadas Fauna, dtype: float64\n"
     ]
    }
   ],
   "source": [
    "df_f[\"Receitas Arrecadadas Fauna\"] = df_f[\"Receitas Arrecadadas Fauna\"].apply(converte)\n",
    "print (df_f[\"Receitas Arrecadadas Fauna\"])\n",
    "\n",
    "## Quantidade arrecada a partir das multas aplicadas, em um total de 61.091.742,30, em 8 anos."
   ]
  },
  {
   "cell_type": "code",
   "execution_count": 12,
   "metadata": {},
   "outputs": [
    {
     "data": {
      "text/html": [
       "<div>\n",
       "<style scoped>\n",
       "    .dataframe tbody tr th:only-of-type {\n",
       "        vertical-align: middle;\n",
       "    }\n",
       "\n",
       "    .dataframe tbody tr th {\n",
       "        vertical-align: top;\n",
       "    }\n",
       "\n",
       "    .dataframe thead th {\n",
       "        text-align: right;\n",
       "    }\n",
       "</style>\n",
       "<table border=\"1\" class=\"dataframe\">\n",
       "  <thead>\n",
       "    <tr style=\"text-align: right;\">\n",
       "      <th></th>\n",
       "      <th>ANO</th>\n",
       "      <th>Quantidade de Multas</th>\n",
       "      <th>Receitas Arrecadadas Fauna</th>\n",
       "    </tr>\n",
       "  </thead>\n",
       "  <tbody>\n",
       "    <tr>\n",
       "      <th>0</th>\n",
       "      <td>2010</td>\n",
       "      <td>8537</td>\n",
       "      <td>3242990.2</td>\n",
       "    </tr>\n",
       "    <tr>\n",
       "      <th>1</th>\n",
       "      <td>2011</td>\n",
       "      <td>10993</td>\n",
       "      <td>3974115.8</td>\n",
       "    </tr>\n",
       "    <tr>\n",
       "      <th>2</th>\n",
       "      <td>2012</td>\n",
       "      <td>15036</td>\n",
       "      <td>4705600.0</td>\n",
       "    </tr>\n",
       "    <tr>\n",
       "      <th>3</th>\n",
       "      <td>2013</td>\n",
       "      <td>19520</td>\n",
       "      <td>6182908.4</td>\n",
       "    </tr>\n",
       "    <tr>\n",
       "      <th>4</th>\n",
       "      <td>2014</td>\n",
       "      <td>20459</td>\n",
       "      <td>8154097.2</td>\n",
       "    </tr>\n",
       "    <tr>\n",
       "      <th>5</th>\n",
       "      <td>2015</td>\n",
       "      <td>23132</td>\n",
       "      <td>8548623.5</td>\n",
       "    </tr>\n",
       "    <tr>\n",
       "      <th>6</th>\n",
       "      <td>2016</td>\n",
       "      <td>23011</td>\n",
       "      <td>9042220.7</td>\n",
       "    </tr>\n",
       "    <tr>\n",
       "      <th>7</th>\n",
       "      <td>2017</td>\n",
       "      <td>23385</td>\n",
       "      <td>9246115.9</td>\n",
       "    </tr>\n",
       "    <tr>\n",
       "      <th>8</th>\n",
       "      <td>2018</td>\n",
       "      <td>18680</td>\n",
       "      <td>7995070.6</td>\n",
       "    </tr>\n",
       "  </tbody>\n",
       "</table>\n",
       "</div>"
      ],
      "text/plain": [
       "    ANO  Quantidade de Multas  Receitas Arrecadadas Fauna\n",
       "0  2010                  8537                   3242990.2\n",
       "1  2011                 10993                   3974115.8\n",
       "2  2012                 15036                   4705600.0\n",
       "3  2013                 19520                   6182908.4\n",
       "4  2014                 20459                   8154097.2\n",
       "5  2015                 23132                   8548623.5\n",
       "6  2016                 23011                   9042220.7\n",
       "7  2017                 23385                   9246115.9\n",
       "8  2018                 18680                   7995070.6"
      ]
     },
     "execution_count": 12,
     "metadata": {},
     "output_type": "execute_result"
    }
   ],
   "source": [
    "df_f.head(10)"
   ]
  },
  {
   "cell_type": "code",
   "execution_count": 13,
   "metadata": {},
   "outputs": [],
   "source": [
    "dataset = pd.read_csv('faunamulta.csv', sep=';')"
   ]
  },
  {
   "cell_type": "code",
   "execution_count": 14,
   "metadata": {},
   "outputs": [
    {
     "data": {
      "text/html": [
       "<div>\n",
       "<style scoped>\n",
       "    .dataframe tbody tr th:only-of-type {\n",
       "        vertical-align: middle;\n",
       "    }\n",
       "\n",
       "    .dataframe tbody tr th {\n",
       "        vertical-align: top;\n",
       "    }\n",
       "\n",
       "    .dataframe thead th {\n",
       "        text-align: right;\n",
       "    }\n",
       "</style>\n",
       "<table border=\"1\" class=\"dataframe\">\n",
       "  <thead>\n",
       "    <tr style=\"text-align: right;\">\n",
       "      <th></th>\n",
       "      <th>ANO</th>\n",
       "      <th>Quantidade de Multas</th>\n",
       "      <th>_</th>\n",
       "    </tr>\n",
       "  </thead>\n",
       "  <tbody>\n",
       "    <tr>\n",
       "      <th>0</th>\n",
       "      <td>2010</td>\n",
       "      <td>8537</td>\n",
       "      <td>_</td>\n",
       "    </tr>\n",
       "    <tr>\n",
       "      <th>1</th>\n",
       "      <td>2011</td>\n",
       "      <td>10993</td>\n",
       "      <td>_</td>\n",
       "    </tr>\n",
       "    <tr>\n",
       "      <th>2</th>\n",
       "      <td>2012</td>\n",
       "      <td>15036</td>\n",
       "      <td>_</td>\n",
       "    </tr>\n",
       "    <tr>\n",
       "      <th>3</th>\n",
       "      <td>2013</td>\n",
       "      <td>19520</td>\n",
       "      <td>_</td>\n",
       "    </tr>\n",
       "    <tr>\n",
       "      <th>4</th>\n",
       "      <td>2014</td>\n",
       "      <td>20459</td>\n",
       "      <td>_</td>\n",
       "    </tr>\n",
       "    <tr>\n",
       "      <th>5</th>\n",
       "      <td>2015</td>\n",
       "      <td>23132</td>\n",
       "      <td>_</td>\n",
       "    </tr>\n",
       "    <tr>\n",
       "      <th>6</th>\n",
       "      <td>2016</td>\n",
       "      <td>23011</td>\n",
       "      <td>_</td>\n",
       "    </tr>\n",
       "    <tr>\n",
       "      <th>7</th>\n",
       "      <td>2017</td>\n",
       "      <td>23385</td>\n",
       "      <td>_</td>\n",
       "    </tr>\n",
       "    <tr>\n",
       "      <th>8</th>\n",
       "      <td>2018</td>\n",
       "      <td>18680</td>\n",
       "      <td>_</td>\n",
       "    </tr>\n",
       "  </tbody>\n",
       "</table>\n",
       "</div>"
      ],
      "text/plain": [
       "    ANO  Quantidade de Multas  _\n",
       "0  2010                  8537  _\n",
       "1  2011                 10993  _\n",
       "2  2012                 15036  _\n",
       "3  2013                 19520  _\n",
       "4  2014                 20459  _\n",
       "5  2015                 23132  _\n",
       "6  2016                 23011  _\n",
       "7  2017                 23385  _\n",
       "8  2018                 18680  _"
      ]
     },
     "execution_count": 14,
     "metadata": {},
     "output_type": "execute_result"
    }
   ],
   "source": [
    "dataset.head(10)"
   ]
  },
  {
   "cell_type": "code",
   "execution_count": 15,
   "metadata": {},
   "outputs": [
    {
     "data": {
      "image/png": "[encoded data removed]",
      "text/plain": [
       "<Figure size 1440x720 with 1 Axes>"
      ]
     },
     "metadata": {
      "needs_background": "light"
     },
     "output_type": "display_data"
    }
   ],
   "source": [
    "p = dataset.sort_values(by= [\"Quantidade de Multas\",],ascending=False).head(10).plot(kind=\"barh\", grid=(True), xticks=(6000,8000,10000,15000,19000,21000,23000), x=(\"ANO\"),figsize=(20,10), fontsize=(16))\n",
    "p.set_xlabel(\"Quantidade de Multas\", fontsize=(16));\n",
    "p.set_title(\"Quantidade de Multas por Ano Fauna\", fontsize=(20));\n",
    "p.set_ylabel(\"Anos\", fontsize=(16));\n",
    "\n",
    "## Gráfico por quantidades que destaca ano por ano o aumento de multas devido a ilicitudes relacionadas a Fauna"
   ]
  },
  {
   "cell_type": "code",
   "execution_count": 16,
   "metadata": {},
   "outputs": [],
   "source": [
    "filename = 'receitasarrecadadaspesca.csv'\n",
    "df_p = pd.read_csv(filename, encoding='latin-1', sep = ';')"
   ]
  },
  {
   "cell_type": "code",
   "execution_count": 17,
   "metadata": {},
   "outputs": [
    {
     "name": "stdout",
     "output_type": "stream",
     "text": [
      "0    2010907.9\n",
      "1    1898167.0\n",
      "2    2285926.4\n",
      "3    2959727.5\n",
      "4    3993344.0\n",
      "5    4164432.6\n",
      "6    4611397.0\n",
      "7    3475588.9\n",
      "8    2629474.3\n",
      "Name: Receitas Arrecadadas Pesca, dtype: float64\n"
     ]
    }
   ],
   "source": [
    "df_p[\"Receitas Arrecadadas Pesca\"] = df_p[\"Receitas Arrecadadas Pesca\"].apply(converte)\n",
    "print (df_p[\"Receitas Arrecadadas Pesca\"])\n",
    "\n",
    "## Quantidade arrecada a partir das multas aplicadas, em um total de 28.028.965,60, em 8 anos."
   ]
  },
  {
   "cell_type": "code",
   "execution_count": 18,
   "metadata": {},
   "outputs": [
    {
     "data": {
      "text/html": [
       "<div>\n",
       "<style scoped>\n",
       "    .dataframe tbody tr th:only-of-type {\n",
       "        vertical-align: middle;\n",
       "    }\n",
       "\n",
       "    .dataframe tbody tr th {\n",
       "        vertical-align: top;\n",
       "    }\n",
       "\n",
       "    .dataframe thead th {\n",
       "        text-align: right;\n",
       "    }\n",
       "</style>\n",
       "<table border=\"1\" class=\"dataframe\">\n",
       "  <thead>\n",
       "    <tr style=\"text-align: right;\">\n",
       "      <th></th>\n",
       "      <th>ANO</th>\n",
       "      <th>Quantidade de Multas</th>\n",
       "      <th>Receitas Arrecadadas Pesca</th>\n",
       "    </tr>\n",
       "  </thead>\n",
       "  <tbody>\n",
       "    <tr>\n",
       "      <th>0</th>\n",
       "      <td>2010</td>\n",
       "      <td>4564</td>\n",
       "      <td>2010907.9</td>\n",
       "    </tr>\n",
       "    <tr>\n",
       "      <th>1</th>\n",
       "      <td>2011</td>\n",
       "      <td>6348</td>\n",
       "      <td>1898167.0</td>\n",
       "    </tr>\n",
       "    <tr>\n",
       "      <th>2</th>\n",
       "      <td>2012</td>\n",
       "      <td>7908</td>\n",
       "      <td>2285926.4</td>\n",
       "    </tr>\n",
       "    <tr>\n",
       "      <th>3</th>\n",
       "      <td>2013</td>\n",
       "      <td>9050</td>\n",
       "      <td>2959727.5</td>\n",
       "    </tr>\n",
       "    <tr>\n",
       "      <th>4</th>\n",
       "      <td>2014</td>\n",
       "      <td>8511</td>\n",
       "      <td>3993344.0</td>\n",
       "    </tr>\n",
       "    <tr>\n",
       "      <th>5</th>\n",
       "      <td>2015</td>\n",
       "      <td>8712</td>\n",
       "      <td>4164432.6</td>\n",
       "    </tr>\n",
       "    <tr>\n",
       "      <th>6</th>\n",
       "      <td>2016</td>\n",
       "      <td>7776</td>\n",
       "      <td>4611397.0</td>\n",
       "    </tr>\n",
       "    <tr>\n",
       "      <th>7</th>\n",
       "      <td>2017</td>\n",
       "      <td>7648</td>\n",
       "      <td>3475588.9</td>\n",
       "    </tr>\n",
       "    <tr>\n",
       "      <th>8</th>\n",
       "      <td>2018</td>\n",
       "      <td>5922</td>\n",
       "      <td>2629474.3</td>\n",
       "    </tr>\n",
       "  </tbody>\n",
       "</table>\n",
       "</div>"
      ],
      "text/plain": [
       "    ANO  Quantidade de Multas  Receitas Arrecadadas Pesca\n",
       "0  2010                  4564                   2010907.9\n",
       "1  2011                  6348                   1898167.0\n",
       "2  2012                  7908                   2285926.4\n",
       "3  2013                  9050                   2959727.5\n",
       "4  2014                  8511                   3993344.0\n",
       "5  2015                  8712                   4164432.6\n",
       "6  2016                  7776                   4611397.0\n",
       "7  2017                  7648                   3475588.9\n",
       "8  2018                  5922                   2629474.3"
      ]
     },
     "execution_count": 18,
     "metadata": {},
     "output_type": "execute_result"
    }
   ],
   "source": [
    "df_p.head(10)"
   ]
  },
  {
   "cell_type": "code",
   "execution_count": 19,
   "metadata": {},
   "outputs": [],
   "source": [
    "dataset = pd.read_csv('pescamulta.csv', sep=';')"
   ]
  },
  {
   "cell_type": "code",
   "execution_count": 20,
   "metadata": {},
   "outputs": [
    {
     "data": {
      "text/html": [
       "<div>\n",
       "<style scoped>\n",
       "    .dataframe tbody tr th:only-of-type {\n",
       "        vertical-align: middle;\n",
       "    }\n",
       "\n",
       "    .dataframe tbody tr th {\n",
       "        vertical-align: top;\n",
       "    }\n",
       "\n",
       "    .dataframe thead th {\n",
       "        text-align: right;\n",
       "    }\n",
       "</style>\n",
       "<table border=\"1\" class=\"dataframe\">\n",
       "  <thead>\n",
       "    <tr style=\"text-align: right;\">\n",
       "      <th></th>\n",
       "      <th>ANO</th>\n",
       "      <th>Quantidade de Multas</th>\n",
       "      <th>_</th>\n",
       "    </tr>\n",
       "  </thead>\n",
       "  <tbody>\n",
       "    <tr>\n",
       "      <th>0</th>\n",
       "      <td>2010</td>\n",
       "      <td>4564</td>\n",
       "      <td>_</td>\n",
       "    </tr>\n",
       "    <tr>\n",
       "      <th>1</th>\n",
       "      <td>2011</td>\n",
       "      <td>6348</td>\n",
       "      <td>_</td>\n",
       "    </tr>\n",
       "    <tr>\n",
       "      <th>2</th>\n",
       "      <td>2012</td>\n",
       "      <td>7908</td>\n",
       "      <td>_</td>\n",
       "    </tr>\n",
       "    <tr>\n",
       "      <th>3</th>\n",
       "      <td>2013</td>\n",
       "      <td>9050</td>\n",
       "      <td>_</td>\n",
       "    </tr>\n",
       "    <tr>\n",
       "      <th>4</th>\n",
       "      <td>2014</td>\n",
       "      <td>8511</td>\n",
       "      <td>_</td>\n",
       "    </tr>\n",
       "    <tr>\n",
       "      <th>5</th>\n",
       "      <td>2015</td>\n",
       "      <td>8712</td>\n",
       "      <td>_</td>\n",
       "    </tr>\n",
       "    <tr>\n",
       "      <th>6</th>\n",
       "      <td>2016</td>\n",
       "      <td>7776</td>\n",
       "      <td>_</td>\n",
       "    </tr>\n",
       "    <tr>\n",
       "      <th>7</th>\n",
       "      <td>2017</td>\n",
       "      <td>7648</td>\n",
       "      <td>_</td>\n",
       "    </tr>\n",
       "    <tr>\n",
       "      <th>8</th>\n",
       "      <td>2018</td>\n",
       "      <td>5922</td>\n",
       "      <td>_</td>\n",
       "    </tr>\n",
       "  </tbody>\n",
       "</table>\n",
       "</div>"
      ],
      "text/plain": [
       "    ANO  Quantidade de Multas  _\n",
       "0  2010                  4564  _\n",
       "1  2011                  6348  _\n",
       "2  2012                  7908  _\n",
       "3  2013                  9050  _\n",
       "4  2014                  8511  _\n",
       "5  2015                  8712  _\n",
       "6  2016                  7776  _\n",
       "7  2017                  7648  _\n",
       "8  2018                  5922  _"
      ]
     },
     "execution_count": 20,
     "metadata": {},
     "output_type": "execute_result"
    }
   ],
   "source": [
    "dataset.head(10)"
   ]
  },
  {
   "cell_type": "code",
   "execution_count": 21,
   "metadata": {},
   "outputs": [
    {
     "data": {
      "image/png": "[encoded data removed]",
      "text/plain": [
       "<Figure size 1440x720 with 1 Axes>"
      ]
     },
     "metadata": {
      "needs_background": "light"
     },
     "output_type": "display_data"
    }
   ],
   "source": [
    "p = dataset.sort_values(by= [\"Quantidade de Multas\",],ascending=False).head(10).plot(kind=\"barh\", grid=(True), xticks=(4000,6000,8000,9000), x=(\"ANO\"),figsize=(20,10), fontsize=(16))\n",
    "p.set_xlabel(\"Quantidade de Multas\", fontsize=(16));\n",
    "p.set_title(\"Quantidade de Multas por Ano Pesca\", fontsize=(20));\n",
    "p.set_ylabel(\"Anos\", fontsize=(16));\n",
    "\n",
    "## Gráfico por quantidades que destaca ano por ano o aumento de multas devido a ilicitudes relacionadas a Pesca"
   ]
  },
  {
   "cell_type": "code",
   "execution_count": null,
   "metadata": {},
   "outputs": [],
   "source": []
  }
 ],
 "metadata": {
  "kernelspec": {
   "display_name": "Python 3",
   "language": "python",
   "name": "python3"
  },
  "language_info": {
   "codemirror_mode": {
    "name": "ipython",
    "version": 3
   },
   "file_extension": ".py",
   "mimetype": "text/x-python",
   "name": "python",
   "nbconvert_exporter": "python",
   "pygments_lexer": "ipython3",
   "version": "3.7.0"
  }
 },
 "nbformat": 4,
 "nbformat_minor": 2
}
